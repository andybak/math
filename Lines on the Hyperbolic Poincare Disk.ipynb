{
 "cells": [
  {
   "cell_type": "markdown",
   "metadata": {},
   "source": [
    "# Lines in the Poincaré Disk Model of Hyperbolic Geometry\n"
   ]
  },
  {
   "cell_type": "markdown",
   "metadata": {},
   "source": [
    "Someone I follow on social media made [this cool graphic](https://society6.com/product/a-hypergeometric-transformation_print#s6-3862893p4a1v45). I wondered how it would look if she used arced lines like in the Poincaré disk. She responded that doing computer graphics with hyperbolic geometry is kind of a pain in the butt. This workbook is to respond to that: affirmatively, because when I actually sat down and started working it out, it did become kind of a pain. It is possible, though I wouldn't want to try to do it in LaTeX (which is what she was using)<sup>1</sup>. Using complex numbers for the calculations made it a bit easier. \n",
    "\n",
    "Let's load `numpy` and `matplotlib` and do all the other initialization stuff."
   ]
  },
  {
   "cell_type": "code",
   "execution_count": 1,
   "metadata": {
    "collapsed": false
   },
   "outputs": [
    {
     "data": {
      "text/plain": [
       "{'divide': 'warn', 'invalid': 'warn', 'over': 'warn', 'under': 'ignore'}"
      ]
     },
     "execution_count": 1,
     "metadata": {},
     "output_type": "execute_result"
    }
   ],
   "source": [
    "%matplotlib inline\n",
    "import numpy as np\n",
    "import matplotlib.pyplot as plt\n",
    "\n",
    "np.seterr(divide='ignore')#so it's not constantly yelling at us for dividing by zero"
   ]
  },
  {
   "cell_type": "markdown",
   "metadata": {},
   "source": [
    "Let's define the disk as $\\{z \\in \\mathbb{C} : \\left|z\\right| \\leq 1\\}$. Points on the unit circle $\\left|z\\right| = 1$ are called *ideal points* or *points at infinity*. The \"lines\" (geodesics) of the Poincaré disk are all circular arcs that meet the unit circle at right angles, i.e. all circles orthogonal to the unit circle, as well as all diameters of the disk. (It can be convenient to consider those lines to be circles with infinite center and radius.)\n",
    "\n",
    "Here's a basic task in geometry: draw a line between two points $a$ and $b$. On the Poincaré disk, that means we need a circle that is orthogonal to the unit circle and passes through $a$ and $b$. Most texts on hyperbolic geometry tell you how to do this, but they give a compass and straightedge construction, which isn't very useful if you're trying to plot it on a computer screen. You would rather have a formula for the (euclidean) center and the radius, and then you can tell your software, \"Hey, go plot a circle.\"\n",
    "\n",
    "You can translate the steps of the compass and straightedge construction into analytic complex formulas. I'm not going to torture you with the derivation, but the formula for the center of the circle is fairly nice<sup>2</sup>:\n",
    "$$\n",
    "q = \\frac{a\\left(1+\\left|b\\right|^2\\right)-b\\left(1+\\left|a\\right|^2\\right)}{a\\overline b-\\overline a b}\n",
    "$$\n",
    "$q$ is undefined when $a\\overline b-\\overline a b = 0$. That is true iff $a$ and $b$ both lie on a diameter, in which case the line is just a straight Euclidean line. If we want to confuse people, we can refer to the line through zero that the diameter is part of as a circle of infinite radius. In effect, if $\\left|q\\right|$ is really big, the arc is instinguishable from a line. We'll use this fact later to avoid computational issues when $a$ and $b$ are very close to sharing a diameter.\n",
    "\n",
    "The radius is just $r = \\left|a-q\\right| = \\left|b-q\\right|$. Let's create a function that gives us the center and radius from the two points $a$ and $b$."
   ]
  },
  {
   "cell_type": "code",
   "execution_count": 2,
   "metadata": {
    "collapsed": true
   },
   "outputs": [],
   "source": [
    "def ortho_euc_circle(a, b):\n",
    "    \"\"\" Gives the center and radius of the circle that passes through \n",
    "    a and b and is also orthogonal to the unit circle.\"\"\"\n",
    "    numerator = a*(1+abs(b)**2)-b*(1+abs(a)**2)\n",
    "    denominator= a*b.conjugate()-a.conjugate()*b \n",
    "    center = numerator/denominator\n",
    "    radius = np.abs(a-center)            \n",
    "    return center, radius"
   ]
  },
  {
   "cell_type": "markdown",
   "metadata": {},
   "source": [
    "Let's pick a couple points and try it out."
   ]
  },
  {
   "cell_type": "code",
   "execution_count": 3,
   "metadata": {
    "collapsed": true
   },
   "outputs": [],
   "source": [
    "a = 0.5\n",
    "b = 0.5j\n",
    "pts = np.array([a, b])\n",
    "\n",
    "center, radius = ortho_euc_circle(a,b)"
   ]
  },
  {
   "cell_type": "code",
   "execution_count": 4,
   "metadata": {
    "collapsed": false
   },
   "outputs": [],
   "source": [
    "#a couple functions for things we'll have to do over and over again\n",
    "def plot_circle_arc(center=0, radius=1, lower_lim=0, upper_lim=2*np.pi, num=360, color='k'):\n",
    "    t = np.linspace(lower_lim, upper_lim, num=360)\n",
    "    unitcircle = radius*np.exp(1j*t)+center\n",
    "    plt.plot(unitcircle.real, unitcircle.imag,c=color)\n",
    "    \n",
    "def initialize_plot():\n",
    "    fig = plt.figure(figsize=(5,5))\n",
    "    #unit circle\n",
    "    plot_circle_arc()\n",
    "    plt.axis('off')"
   ]
  },
  {
   "cell_type": "code",
   "execution_count": 5,
   "metadata": {
    "collapsed": false
   },
   "outputs": [
    {
     "data": {
      "image/png": "[encoded data removed]",
      "text/plain": [
       "<matplotlib.figure.Figure at 0x790a668>"
      ]
     },
     "metadata": {},
     "output_type": "display_data"
    }
   ],
   "source": [
    "initialize_plot()\n",
    "plot_circle_arc(center, radius, color='b')\n",
    "plt.scatter(np.real(pts), np.imag(pts), c='k')\n",
    "plt.show() "
   ]
  },
  {
   "cell_type": "markdown",
   "metadata": {},
   "source": [
    "Well, we have our circle... but we have *all* of the circle, including the part outside of the disk! What if we just want the segment between the two points? Well, We can determine the angle from the center of the blue circle to the two points, and just plot that. We just need to make sure our angles are for the smaller arc of the circle, not the larger one."
   ]
  },
  {
   "cell_type": "code",
   "execution_count": 6,
   "metadata": {
    "collapsed": true
   },
   "outputs": [],
   "source": [
    "def smaller_arc(arc_angle):\n",
    "    result = arc_angle.copy()\n",
    "    if abs(result[0]-result[1]) > np.pi:\n",
    "        if result[0]<result[1]:\n",
    "            result[0] += 2*np.pi\n",
    "        else:\n",
    "            result[1] += 2*np.pi\n",
    "    return np.sort(result)\n",
    "    \n",
    "def arc_angle(pts, center):\n",
    "    angles = np.angle(pts-center)\n",
    "    return smaller_arc(angles)"
   ]
  },
  {
   "cell_type": "code",
   "execution_count": 7,
   "metadata": {
    "collapsed": false
   },
   "outputs": [
    {
     "data": {
      "image/png": "[encoded data removed]",
      "text/plain": [
       "<matplotlib.figure.Figure at 0x79086d8>"
      ]
     },
     "metadata": {},
     "output_type": "display_data"
    }
   ],
   "source": [
    "angle = arc_angle(pts, center)\n",
    "\n",
    "initialize_plot()\n",
    "#\"line\" between a and b\n",
    "plot_circle_arc(center, radius, lower_lim=angle[0], upper_lim=angle[1], color='b')\n",
    "plt.scatter(np.real(pts), np.imag(pts), c='k')\n",
    "plt.show() "
   ]
  },
  {
   "cell_type": "markdown",
   "metadata": {},
   "source": [
    "Ok, but what if we want the line to extend out to the limit points? We could just calculate the whole circle and get rid of the part that's outside the unit circle. But we wind up doing a lot of processing just to throw it away, and unless we use a bajillion steps when we plot the circle, there tends to be a gap where the two circles meet. The straighter the line, the worse it is."
   ]
  },
  {
   "cell_type": "markdown",
   "metadata": {},
   "source": [
    "Instead, we'll calculate the angle from the center of the orthogonal circle where the two circles intersect. We can do this by <s>abusing Wolfram Alpha</s> solving for the system of equations created by the two circles. Again, I'm not going to torture you with the derivation, but the formula is:\n",
    "$$\n",
    "\\theta = 2 \\Arctan\\left(\\frac{2 r \\Im \\left(q\\right) \\pm \\sqrt{4 r^2 - \\left(1-\\left|q\\right|^2+r^2\\right)^2}}\n",
    "{1 + 2r \\Re \\left(q\\right) -r^2  - \\left|q\\right|^2}\\right)\n",
    "$$\n",
    "Note that these are the angles with respect to q, not the origin. The corresponding limit points on the disk are $ z = r \\operatorname{exp} \\left(i\\theta\\right) + q$. Let's try this formula..."
   ]
  },
  {
   "cell_type": "code",
   "execution_count": 8,
   "metadata": {
    "collapsed": true
   },
   "outputs": [],
   "source": [
    "def ext_angle(center, radius):\n",
    "    absc_sq = abs(center)**2\n",
    "    denom = 1 + 2*radius*center.real- radius**2 -absc_sq\n",
    "    numer_1 = 2*radius*center.imag        \n",
    "    numer_2 = np.sqrt(4*radius**2-(1-absc_sq+radius**2)**2)\n",
    "    angle = 2*np.arctan((numer_1 +np.array([-1,1])*numer_2)/denom)\n",
    "    return smaller_arc(angle)"
   ]
  },
  {
   "cell_type": "code",
   "execution_count": 9,
   "metadata": {
    "collapsed": false
   },
   "outputs": [
    {
     "data": {
      "image/png": "[encoded data removed]",
      "text/plain": [
       "<matplotlib.figure.Figure at 0x793fb38>"
      ]
     },
     "metadata": {},
     "output_type": "display_data"
    }
   ],
   "source": [
    "angle = ext_angle(center, radius)\n",
    "\n",
    "initialize_plot()\n",
    "#\"line\" between a and b\n",
    "plot_circle_arc(center=center, radius=radius, lower_lim=angle[0], upper_lim=angle[1], color='b')\n",
    "plt.scatter(np.real(pts), np.imag(pts), c='k')\n",
    "plt.show() "
   ]
  },
  {
   "cell_type": "markdown",
   "metadata": {},
   "source": [
    "Much better! All we had to do was, well, derive a really ugly formula.\n",
    "\n",
    "In real life, we'll need handling for the case where the points line on a diameter. Here's a function that does most of the goofy handling."
   ]
  },
  {
   "cell_type": "code",
   "execution_count": 10,
   "metadata": {
    "collapsed": false
   },
   "outputs": [],
   "source": [
    "def plot_hyp_line(a,b,extend=True, straighten = 1E10): \n",
    "    \"\"\"Plots hyperbolic lines.\n",
    "    Input: \n",
    "        a, b: Points to plot the line between.\n",
    "        extend: Whether to extend the lines to the limit points.\n",
    "        straighten: If abs(center) winds up being above this value, plot a straight line instead\n",
    "    \"\"\"\n",
    "    pts = np.array([a,b])\n",
    "    center, radius = ortho_euc_circle(a, b)\n",
    "    absc = abs(center)\n",
    "    if absc < straighten:#plot a circular arc\n",
    "        if extend:\n",
    "            angle = ext_angle(center, radius)\n",
    "            plot_circle_arc(center, radius, lower_lim=angle[0], upper_lim=angle[1], color='r')\n",
    "        angle = arc_angle(pts, center)\n",
    "        plot_circle_arc(center, radius, lower_lim=angle[0], upper_lim=angle[1], color='b')\n",
    "    else: #plot a straight line instead\n",
    "        if extend and (a != 0 or b != 0):\n",
    "            #normalize the points so they're on the unit circle\n",
    "            anorm = a/abs(a)\n",
    "            bnorm = b/abs(b)\n",
    "            #unless one is zero, in which case use the mirror image of the other one. \n",
    "            #if both are zero the line is degenerate, so don't worry about it\n",
    "            if a == 0:\n",
    "                anorm = -bnorm\n",
    "            elif b == 0:\n",
    "                bnorm = -anorm \n",
    "            plt.plot([a.real, b.real], [a.imag, b.imag], c='r')\n",
    "        plt.plot(pts.real, pts.imag, c='b')"
   ]
  },
  {
   "cell_type": "markdown",
   "metadata": {},
   "source": [
    "Let's test it out on a representitive set of points."
   ]
  },
  {
   "cell_type": "code",
   "execution_count": 13,
   "metadata": {
    "collapsed": false
   },
   "outputs": [],
   "source": [
    "n=7\n",
    "\n",
    "#random points on the unit disk\n",
    "pts = (np.random.uniform(0,1,size=n)*\n",
    "        np.exp(2j*np.random.uniform(0,np.pi,size=n)))\n",
    "\n",
    "#move two points to the unit circle\n",
    "pts[:2] = pts[:2]/abs(pts[:2])\n",
    "#put one point on a diameter with another one\n",
    "pts[-1] = -pts[0]*np.random.uniform(0,1)"
   ]
  },
  {
   "cell_type": "code",
   "execution_count": 14,
   "metadata": {
    "collapsed": false
   },
   "outputs": [
    {
     "data": {
      "image/png": "[encoded data removed]",
      "text/plain": [
       "<matplotlib.figure.Figure at 0x7dbf320>"
      ]
     },
     "metadata": {},
     "output_type": "display_data"
    }
   ],
   "source": [
    "initialize_plot()\n",
    "axes = plt.gca()\n",
    "axes.set_xlim([-1.1,1.1])\n",
    "axes.set_ylim([-1.1,1.1])\n",
    "\n",
    "for i in range(n):\n",
    "    plot_hyp_line(pts[i-1],pts[i])\n",
    "plt.scatter(np.real(pts), np.imag(pts), c='k')\n",
    "plt.show() "
   ]
  },
  {
   "cell_type": "markdown",
   "metadata": {},
   "source": [
    "<sup>1</sup> When I actually tried to recreate the graphic using arced lines, it just looked like a mess, so I wound up doing all this work for nothing, but c'est la vie.\n",
    "\n",
    "<sup>2</sup> This formula isn't specific to hyperbolic geometry. $a$ and $b$ can be outside the circle and the formula still gives the center of the orthogonal circle."
   ]
  }
 ],
 "metadata": {
  "anaconda-cloud": {},
  "kernelspec": {
   "display_name": "Python [Root]",
   "language": "python",
   "name": "Python [Root]"
  },
  "language_info": {
   "codemirror_mode": {
    "name": "ipython",
    "version": 3
   },
   "file_extension": ".py",
   "mimetype": "text/x-python",
   "name": "python",
   "nbconvert_exporter": "python",
   "pygments_lexer": "ipython3",
   "version": "3.5.2"
  }
 },
 "nbformat": 4,
 "nbformat_minor": 0
}
